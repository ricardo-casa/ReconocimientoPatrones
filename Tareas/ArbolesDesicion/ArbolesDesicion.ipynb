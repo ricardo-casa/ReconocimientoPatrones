{
 "cells": [
  {
   "cell_type": "code",
   "execution_count": 34,
   "metadata": {},
   "outputs": [],
   "source": [
    "import pandas as pd\n",
    "from sklearn import preprocessing\n",
    "\n",
    "data = pd.read_csv('diabetes.csv')\n",
    "Y = data['class']\n",
    "X = data.drop(['class'],axis=1)"
   ]
  },
  {
   "cell_type": "code",
   "execution_count": 32,
   "metadata": {},
   "outputs": [
    {
     "name": "stdout",
     "output_type": "stream",
     "text": [
      "4112\n",
      "514\n"
     ]
    }
   ],
   "source": [
    "from sklearn.model_selection import train_test_split\n",
    "\n",
    "x_train,x_test,y_train,y_test = train_test_split(X, Y, test_size=0.33)\n",
    "print(x_train.size)\n",
    "print(y_train.size)"
   ]
  },
  {
   "cell_type": "code",
   "execution_count": 30,
   "metadata": {},
   "outputs": [
    {
     "data": {
      "text/plain": [
       "735    tested_negative\n",
       "616    tested_negative\n",
       "450    tested_negative\n",
       "339    tested_positive\n",
       "193    tested_positive\n",
       "            ...       \n",
       "194    tested_negative\n",
       "391    tested_positive\n",
       "21     tested_negative\n",
       "9      tested_positive\n",
       "161    tested_negative\n",
       "Name: class, Length: 254, dtype: object"
      ]
     },
     "execution_count": 30,
     "metadata": {},
     "output_type": "execute_result"
    }
   ],
   "source": [
    "y_test"
   ]
  },
  {
   "cell_type": "code",
   "execution_count": 36,
   "metadata": {},
   "outputs": [],
   "source": [
    "le = preprocessing.LabelEncoder()\n",
    "le.fit(Y)\n",
    "y_train=le.transform(y_train)\n",
    "y_test=le.transform(y_test)"
   ]
  },
  {
   "cell_type": "code",
   "execution_count": 8,
   "metadata": {},
   "outputs": [],
   "source": [
    "#y_predict = clf.predict(x_test)"
   ]
  },
  {
   "cell_type": "code",
   "execution_count": 9,
   "metadata": {},
   "outputs": [
    {
     "data": {
      "text/plain": [
       "0.6968503937007874"
      ]
     },
     "execution_count": 9,
     "metadata": {},
     "output_type": "execute_result"
    }
   ],
   "source": [
    "#from sklearn.metrics import accuracy_score\n",
    "#\n",
    "#acc = accuracy_score(y_test, y_predict)\n",
    "#acc"
   ]
  },
  {
   "cell_type": "code",
   "execution_count": 37,
   "metadata": {},
   "outputs": [],
   "source": [
    "from sklearn.model_selection import learning_curve"
   ]
  },
  {
   "cell_type": "code",
   "execution_count": 44,
   "metadata": {},
   "outputs": [],
   "source": [
    "import numpy as np\n",
    "from sklearn.model_selection import StratifiedKFold, cross_val_score\n",
    "from sklearn.pipeline import Pipeline\n",
    "from sklearn.preprocessing import LabelEncoder, StandardScaler\n",
    "from sklearn import tree\n",
    "from sklearn.metrics import roc_auc_score\n",
    "\n",
    "clf = tree.DecisionTreeClassifier(criterion = 'entropy',\n",
    "min_samples_leaf = 1)\n",
    "\n",
    "\n",
    "def learn_curve(X,y,c):\n",
    "    ''' param X: Matrix of input features \n",
    "        param y: Vector of Target/Label\n",
    "        c: Inverse Regularization variable to control overfitting (high value causes overfitting, low value causes underfitting)\n",
    "    '''\n",
    "\n",
    "    '''We aren't splitting the data into train and test because we will use StratifiedKFoldCV.\n",
    "    KFold CV is a preferred method compared to hold out CV, since the model is tested on all the examples.\n",
    "    Hold out CV is preferred when the model takes too long to train and we have a huge test set that truly represents the universe\n",
    "    '''\n",
    "    \n",
    "    le = LabelEncoder() # Label encoding the target\n",
    "    sc = StandardScaler() # Scaling the input features\n",
    "    y = le.fit_transform(y)#Label Encoding the target\n",
    "    clf = tree.DecisionTreeClassifier(criterion = 'entropy', min_samples_leaf = c)\n",
    "\n",
    "    # Pipeline with scaling and classification as steps, must use a pipelne since we are using KFoldCV\n",
    "    lr = Pipeline(steps=(['scaler',sc],['classifier',clf]))\n",
    "    \n",
    "    \n",
    "    cv = StratifiedKFold(n_splits=5,random_state=11,shuffle=True) # Creating a StratifiedKFold object with 5 folds\n",
    "    cv_scores = cross_val_score(lr,X,y,scoring=\"accuracy\",cv=cv) # Storing the CV scores (accuracy) of each fold\n",
    "    \n",
    "    lr = lr.fit(x_train, y_train)\n",
    "\n",
    "    train_score = lr.score(X,y) # Scoring the model on train set\n",
    "    \n",
    "    #Building the learning curve\n",
    "    train_size,train_scores,test_scores = learning_curve(estimator=lr,X=X,y=y,cv=cv,scoring=\"accuracy\",random_state=11)\n",
    "    train_scores = 1-np.mean(train_scores,axis=1)#converting the accuracy score to misclassification rate\n",
    "    test_scores = 1-np.mean(test_scores,axis=1)#converting the accuracy score to misclassification rate\n",
    "    lc = pd.DataFrame({\"Training_size\":train_size,\"Training_loss\":train_scores,\"Validation_loss\":test_scores}).melt(id_vars=\"Training_size\")\n",
    "    return {\"cv_scores\":cv_scores,\n",
    "            \"train_score\":train_score,\n",
    "            \"learning_curve\":lc\n",
    "            }"
   ]
  },
  {
   "cell_type": "code",
   "execution_count": 100,
   "metadata": {},
   "outputs": [
    {
     "name": "stdout",
     "output_type": "stream",
     "text": [
      "Cross Validation Accuracies:\n",
      "-------------------------\n",
      "[0.7184466019417476, 0.7184466019417476, 0.6504854368932039, 0.7864077669902912, 0.7647058823529411]\n",
      "\n",
      "Mean Cross Validation Accuracy:\n",
      "-------------------------\n",
      "0.7276984580239862\n",
      "\n",
      "Standard Deviation of Cross Validation Accuracy:\n",
      "-------------------------\n",
      "0.04679610395928262\n",
      "\n",
      "Training Accuracy:\n",
      "---------------\n",
      "0.857976653696498\n",
      "\n",
      "\n"
     ]
    },
    {
     "data": {
      "image/png": "[encoded data removed]",
      "text/plain": [
       "<Figure size 432x288 with 1 Axes>"
      ]
     },
     "metadata": {
      "needs_background": "light"
     },
     "output_type": "display_data"
    }
   ],
   "source": [
    "import seaborn as sns\n",
    "import matplotlib.pyplot as plt\n",
    "\n",
    "lc = learn_curve(x_train,y_train,10)\n",
    "print(f'Cross Validation Accuracies:\\n{\"-\"*25}\\n{list(lc[\"cv_scores\"])}\\n\\n\\\n",
    "Mean Cross Validation Accuracy:\\n{\"-\"*25}\\n{np.mean(lc[\"cv_scores\"])}\\n\\n\\\n",
    "Standard Deviation of Cross Validation Accuracy:\\n{\"-\"*25}\\n{np.std(lc[\"cv_scores\"])}\\n\\n\\\n",
    "Training Accuracy:\\n{\"-\"*15}\\n{lc[\"train_score\"]}\\n\\n')\n",
    "\n",
    "sns.lineplot(data=lc[\"learning_curve\"],x=\"Training_size\",y=\"value\",hue=\"variable\")\n",
    "plt.title(\"Learning Curve of Desition Tree Model\")\n",
    "plt.ylabel(\"Misclassification Rate/Loss\");"
   ]
  }
 ],
 "metadata": {
  "kernelspec": {
   "display_name": "Python 3.9.12 ('base')",
   "language": "python",
   "name": "python3"
  },
  "language_info": {
   "codemirror_mode": {
    "name": "ipython",
    "version": 3
   },
   "file_extension": ".py",
   "mimetype": "text/x-python",
   "name": "python",
   "nbconvert_exporter": "python",
   "pygments_lexer": "ipython3",
   "version": "3.9.12"
  },
  "orig_nbformat": 4,
  "vscode": {
   "interpreter": {
    "hash": "7e98b958d39e2318fe67f21a85bb53f2aef1546589483d93394df0541a8637a6"
   }
  }
 },
 "nbformat": 4,
 "nbformat_minor": 2
}
