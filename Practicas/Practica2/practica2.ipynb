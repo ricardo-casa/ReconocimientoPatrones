{
  "cells": [
    {
      "cell_type": "markdown",
      "metadata": {
        "id": "view-in-github",
        "colab_type": "text"
      },
      "source": [
        "<a href=\"https://colab.research.google.com/github/ricardo-casa/ReconocimientoPatrones/blob/main/Practicas/Practica2/practica2.ipynb\" target=\"_parent\"><img src=\"https://colab.research.google.com/assets/colab-badge.svg\" alt=\"Open In Colab\"/></a>"
      ]
    },
    {
      "cell_type": "code",
      "execution_count": null,
      "metadata": {
        "id": "B6s-ewZm-cvh"
      },
      "outputs": [],
      "source": [
        "import cv2 \n",
        "from PIL import ImageFilter\n",
        "import numpy as np\n",
        "import matplotlib.pyplot as plt\n",
        "import matplotlib.image as img\n",
        "from sklearn.naive_bayes import GaussianNB\n",
        "from sklearn.model_selection import train_test_split\n",
        "import os\n",
        "from copy import deepcopy\n",
        "from colorsys import rgb_to_hsv"
      ]
    },
    {
      "cell_type": "code",
      "execution_count": null,
      "metadata": {
        "id": "J6Nxe0h1-cvi"
      },
      "outputs": [],
      "source": [
        "origin = 'data/comida/'\n",
        "images = os.listdir(origin)\n",
        "size = (256,256)"
      ]
    },
    {
      "cell_type": "code",
      "execution_count": null,
      "metadata": {
        "id": "D2Lo0Ff9-cvj",
        "outputId": "42b9e1c0-0ff1-4d2d-9ead-4e814d86516e"
      },
      "outputs": [
        {
          "name": "stdout",
          "output_type": "stream",
          "text": [
            "['Entrenamiento2.jpg', 'Entrenamiento1.jpg', 'Prueba1.jpg', 'Entrenamiento4.jpg', 'Prueba2.jpg'] ['Prueba3.jpg', 'Entrenamiento3.jpg']\n"
          ]
        }
      ],
      "source": [
        "x_train, x_test = train_test_split(images, test_size=0.2, random_state=1)\n",
        "print(x_train, x_test)"
      ]
    },
    {
      "cell_type": "code",
      "execution_count": null,
      "metadata": {
        "id": "hulPgEZz-cvj"
      },
      "outputs": [],
      "source": [
        "def preprocess(image): \n",
        "    processed_image = cv2.imread(origin + image)\n",
        "    processed_image = cv2.resize(processed_image, size)\n",
        "    #cv2.imshow('image',image)\n",
        "    #cv2.waitKey(5000)\n",
        "    processed_image = cv2.GaussianBlur(processed_image, (15, 15), 8)  \n",
        "    return processed_image"
      ]
    },
    {
      "cell_type": "markdown",
      "metadata": {
        "id": "Ar-x8fc5-cvk"
      },
      "source": [
        "Preprocessing Training Set"
      ]
    },
    {
      "cell_type": "code",
      "execution_count": null,
      "metadata": {
        "id": "26p1PvrW-cvk",
        "outputId": "fc174df4-9196-4c0d-db0a-d61153924a23"
      },
      "outputs": [
        {
          "data": {
            "text/plain": [
              "[array([[[ 61,  90, 222],\n",
              "         [ 61,  90, 222],\n",
              "         [ 61,  91, 222],\n",
              "         ...,\n",
              "         [ 57,  83, 223],\n",
              "         [ 57,  82, 223],\n",
              "         [ 57,  82, 223]],\n",
              " \n",
              "        [[ 61,  90, 222],\n",
              "         [ 61,  90, 222],\n",
              "         [ 61,  90, 222],\n",
              "         ...,\n",
              "         [ 57,  83, 223],\n",
              "         [ 57,  82, 223],\n",
              "         [ 57,  82, 223]],\n",
              " \n",
              "        [[ 61,  90, 222],\n",
              "         [ 61,  90, 222],\n",
              "         [ 61,  90, 222],\n",
              "         ...,\n",
              "         [ 57,  83, 223],\n",
              "         [ 57,  82, 223],\n",
              "         [ 57,  82, 223]],\n",
              " \n",
              "        ...,\n",
              " \n",
              "        [[ 68, 109, 221],\n",
              "         [ 68, 109, 221],\n",
              "         [ 68, 109, 221],\n",
              "         ...,\n",
              "         [ 65,  96, 225],\n",
              "         [ 65,  97, 225],\n",
              "         [ 65,  97, 225]],\n",
              " \n",
              "        [[ 68, 109, 221],\n",
              "         [ 68, 109, 221],\n",
              "         [ 68, 109, 221],\n",
              "         ...,\n",
              "         [ 65,  96, 225],\n",
              "         [ 65,  96, 225],\n",
              "         [ 65,  96, 225]],\n",
              " \n",
              "        [[ 68, 109, 221],\n",
              "         [ 68, 109, 221],\n",
              "         [ 68, 109, 221],\n",
              "         ...,\n",
              "         [ 65,  96, 225],\n",
              "         [ 65,  96, 225],\n",
              "         [ 65,  96, 225]]], dtype=uint8),\n",
              " array([[[ 55,  76, 221],\n",
              "         [ 55,  76, 221],\n",
              "         [ 55,  76, 221],\n",
              "         ...,\n",
              "         [ 63,  87, 225],\n",
              "         [ 63,  87, 225],\n",
              "         [ 63,  87, 225]],\n",
              " \n",
              "        [[ 55,  76, 221],\n",
              "         [ 55,  76, 221],\n",
              "         [ 55,  76, 221],\n",
              "         ...,\n",
              "         [ 63,  87, 225],\n",
              "         [ 63,  87, 225],\n",
              "         [ 63,  87, 225]],\n",
              " \n",
              "        [[ 55,  76, 221],\n",
              "         [ 55,  76, 221],\n",
              "         [ 55,  76, 221],\n",
              "         ...,\n",
              "         [ 63,  87, 225],\n",
              "         [ 63,  87, 225],\n",
              "         [ 63,  87, 225]],\n",
              " \n",
              "        ...,\n",
              " \n",
              "        [[ 62,  86, 223],\n",
              "         [ 62,  86, 223],\n",
              "         [ 62,  86, 223],\n",
              "         ...,\n",
              "         [ 66, 100, 224],\n",
              "         [ 66, 100, 224],\n",
              "         [ 66, 100, 224]],\n",
              " \n",
              "        [[ 62,  86, 223],\n",
              "         [ 62,  86, 223],\n",
              "         [ 62,  86, 223],\n",
              "         ...,\n",
              "         [ 66, 100, 224],\n",
              "         [ 66, 100, 224],\n",
              "         [ 66, 100, 224]],\n",
              " \n",
              "        [[ 62,  86, 223],\n",
              "         [ 62,  86, 223],\n",
              "         [ 62,  86, 223],\n",
              "         ...,\n",
              "         [ 66, 100, 224],\n",
              "         [ 66, 100, 224],\n",
              "         [ 67, 100, 224]]], dtype=uint8),\n",
              " array([[[ 53,  78, 221],\n",
              "         [ 53,  78, 221],\n",
              "         [ 53,  78, 221],\n",
              "         ...,\n",
              "         [ 54,  81, 221],\n",
              "         [ 53,  80, 221],\n",
              "         [ 53,  80, 221]],\n",
              " \n",
              "        [[ 53,  78, 221],\n",
              "         [ 53,  78, 221],\n",
              "         [ 53,  78, 221],\n",
              "         ...,\n",
              "         [ 54,  81, 222],\n",
              "         [ 53,  81, 221],\n",
              "         [ 54,  81, 221]],\n",
              " \n",
              "        [[ 53,  78, 221],\n",
              "         [ 53,  78, 221],\n",
              "         [ 53,  78, 221],\n",
              "         ...,\n",
              "         [ 54,  81, 221],\n",
              "         [ 54,  81, 221],\n",
              "         [ 54,  81, 221]],\n",
              " \n",
              "        ...,\n",
              " \n",
              "        [[ 55,  86, 220],\n",
              "         [ 55,  86, 220],\n",
              "         [ 56,  86, 220],\n",
              "         ...,\n",
              "         [ 57,  89, 219],\n",
              "         [ 57,  89, 219],\n",
              "         [ 57,  89, 219]],\n",
              " \n",
              "        [[ 55,  85, 220],\n",
              "         [ 55,  86, 220],\n",
              "         [ 55,  86, 220],\n",
              "         ...,\n",
              "         [ 57,  89, 219],\n",
              "         [ 57,  89, 219],\n",
              "         [ 57,  89, 219]],\n",
              " \n",
              "        [[ 55,  85, 220],\n",
              "         [ 55,  85, 220],\n",
              "         [ 55,  86, 220],\n",
              "         ...,\n",
              "         [ 57,  89, 219],\n",
              "         [ 57,  89, 219],\n",
              "         [ 57,  89, 219]]], dtype=uint8),\n",
              " array([[[ 64,  92, 225],\n",
              "         [ 64,  92, 225],\n",
              "         [ 64,  92, 225],\n",
              "         ...,\n",
              "         [ 61,  88, 227],\n",
              "         [ 61,  88, 227],\n",
              "         [ 61,  88, 227]],\n",
              " \n",
              "        [[ 64,  92, 225],\n",
              "         [ 64,  92, 225],\n",
              "         [ 64,  92, 225],\n",
              "         ...,\n",
              "         [ 61,  88, 227],\n",
              "         [ 61,  88, 227],\n",
              "         [ 61,  88, 227]],\n",
              " \n",
              "        [[ 64,  92, 225],\n",
              "         [ 64,  92, 225],\n",
              "         [ 64,  92, 225],\n",
              "         ...,\n",
              "         [ 61,  87, 227],\n",
              "         [ 61,  87, 227],\n",
              "         [ 61,  87, 227]],\n",
              " \n",
              "        ...,\n",
              " \n",
              "        [[ 68, 107, 226],\n",
              "         [ 68, 107, 226],\n",
              "         [ 68, 107, 226],\n",
              "         ...,\n",
              "         [ 70, 100, 232],\n",
              "         [ 70, 100, 232],\n",
              "         [ 70, 100, 232]],\n",
              " \n",
              "        [[ 68, 107, 226],\n",
              "         [ 68, 107, 226],\n",
              "         [ 68, 107, 226],\n",
              "         ...,\n",
              "         [ 70, 100, 232],\n",
              "         [ 70, 100, 232],\n",
              "         [ 70, 100, 232]],\n",
              " \n",
              "        [[ 68, 107, 226],\n",
              "         [ 68, 107, 226],\n",
              "         [ 68, 107, 226],\n",
              "         ...,\n",
              "         [ 69,  99, 231],\n",
              "         [ 69,  99, 232],\n",
              "         [ 69,  99, 232]]], dtype=uint8),\n",
              " array([[[ 57,  87, 223],\n",
              "         [ 57,  87, 223],\n",
              "         [ 56,  87, 222],\n",
              "         ...,\n",
              "         [ 63,  89, 227],\n",
              "         [ 63,  89, 227],\n",
              "         [ 63,  90, 227]],\n",
              " \n",
              "        [[ 57,  87, 222],\n",
              "         [ 57,  87, 222],\n",
              "         [ 56,  87, 222],\n",
              "         ...,\n",
              "         [ 63,  89, 227],\n",
              "         [ 63,  89, 227],\n",
              "         [ 63,  90, 227]],\n",
              " \n",
              "        [[ 57,  87, 222],\n",
              "         [ 56,  87, 222],\n",
              "         [ 56,  87, 222],\n",
              "         ...,\n",
              "         [ 63,  90, 227],\n",
              "         [ 63,  90, 227],\n",
              "         [ 63,  90, 227]],\n",
              " \n",
              "        ...,\n",
              " \n",
              "        [[ 57,  86, 221],\n",
              "         [ 57,  87, 221],\n",
              "         [ 57,  87, 221],\n",
              "         ...,\n",
              "         [ 64,  91, 227],\n",
              "         [ 64,  90, 227],\n",
              "         [ 64,  90, 227]],\n",
              " \n",
              "        [[ 57,  86, 221],\n",
              "         [ 57,  87, 221],\n",
              "         [ 57,  87, 221],\n",
              "         ...,\n",
              "         [ 64,  90, 227],\n",
              "         [ 64,  90, 227],\n",
              "         [ 64,  90, 227]],\n",
              " \n",
              "        [[ 57,  87, 221],\n",
              "         [ 57,  87, 221],\n",
              "         [ 57,  87, 221],\n",
              "         ...,\n",
              "         [ 64,  90, 227],\n",
              "         [ 64,  90, 227],\n",
              "         [ 64,  90, 227]]], dtype=uint8)]"
            ]
          },
          "execution_count": 5,
          "metadata": {},
          "output_type": "execute_result"
        }
      ],
      "source": [
        "X_train = []\n",
        "for image in x_train: \n",
        "    blurred = preprocess(image)\n",
        "    X_train.append(blurred)\n",
        "\n",
        "X_train"
      ]
    },
    {
      "cell_type": "markdown",
      "metadata": {
        "id": "NLCXkv3I-cvm"
      },
      "source": [
        "Preprocessing Test Set"
      ]
    },
    {
      "cell_type": "code",
      "execution_count": null,
      "metadata": {
        "id": "ivBFoCqB-cvm",
        "outputId": "5dd828fe-b2ec-4cb6-d281-4da520338203"
      },
      "outputs": [
        {
          "data": {
            "text/plain": [
              "[array([[[ 58,  95, 223],\n",
              "         [ 58,  95, 223],\n",
              "         [ 58,  95, 224],\n",
              "         ...,\n",
              "         [ 55,  86, 224],\n",
              "         [ 56,  87, 224],\n",
              "         [ 56,  87, 224]],\n",
              " \n",
              "        [[ 58,  95, 223],\n",
              "         [ 58,  95, 224],\n",
              "         [ 58,  95, 224],\n",
              "         ...,\n",
              "         [ 55,  86, 224],\n",
              "         [ 56,  87, 224],\n",
              "         [ 56,  87, 224]],\n",
              " \n",
              "        [[ 58,  95, 223],\n",
              "         [ 58,  95, 224],\n",
              "         [ 58,  95, 224],\n",
              "         ...,\n",
              "         [ 56,  86, 224],\n",
              "         [ 56,  87, 224],\n",
              "         [ 56,  87, 224]],\n",
              " \n",
              "        ...,\n",
              " \n",
              "        [[ 55,  93, 220],\n",
              "         [ 55,  93, 220],\n",
              "         [ 55,  93, 220],\n",
              "         ...,\n",
              "         [ 56,  86, 223],\n",
              "         [ 56,  85, 223],\n",
              "         [ 56,  85, 223]],\n",
              " \n",
              "        [[ 56,  93, 220],\n",
              "         [ 56,  93, 220],\n",
              "         [ 56,  93, 220],\n",
              "         ...,\n",
              "         [ 56,  86, 223],\n",
              "         [ 56,  85, 223],\n",
              "         [ 56,  85, 223]],\n",
              " \n",
              "        [[ 56,  94, 220],\n",
              "         [ 56,  94, 220],\n",
              "         [ 56,  94, 220],\n",
              "         ...,\n",
              "         [ 56,  86, 223],\n",
              "         [ 56,  86, 223],\n",
              "         [ 56,  85, 223]]], dtype=uint8),\n",
              " array([[[ 64,  93, 225],\n",
              "         [ 64,  93, 225],\n",
              "         [ 64,  93, 225],\n",
              "         ...,\n",
              "         [ 61,  86, 226],\n",
              "         [ 61,  86, 226],\n",
              "         [ 61,  86, 226]],\n",
              " \n",
              "        [[ 64,  93, 225],\n",
              "         [ 64,  93, 225],\n",
              "         [ 64,  93, 225],\n",
              "         ...,\n",
              "         [ 61,  86, 226],\n",
              "         [ 61,  86, 226],\n",
              "         [ 61,  86, 226]],\n",
              " \n",
              "        [[ 64,  93, 225],\n",
              "         [ 64,  93, 225],\n",
              "         [ 64,  93, 225],\n",
              "         ...,\n",
              "         [ 61,  86, 226],\n",
              "         [ 61,  86, 226],\n",
              "         [ 61,  86, 226]],\n",
              " \n",
              "        ...,\n",
              " \n",
              "        [[ 65, 108, 221],\n",
              "         [ 66, 108, 221],\n",
              "         [ 66, 108, 221],\n",
              "         ...,\n",
              "         [ 68,  99, 229],\n",
              "         [ 68,  99, 229],\n",
              "         [ 68,  99, 229]],\n",
              " \n",
              "        [[ 65, 108, 221],\n",
              "         [ 66, 108, 221],\n",
              "         [ 66, 108, 221],\n",
              "         ...,\n",
              "         [ 68,  99, 229],\n",
              "         [ 68,  99, 229],\n",
              "         [ 68,  99, 229]],\n",
              " \n",
              "        [[ 66, 108, 221],\n",
              "         [ 66, 108, 221],\n",
              "         [ 66, 108, 221],\n",
              "         ...,\n",
              "         [ 68,  99, 229],\n",
              "         [ 68,  99, 229],\n",
              "         [ 68,  99, 229]]], dtype=uint8)]"
            ]
          },
          "execution_count": 6,
          "metadata": {},
          "output_type": "execute_result"
        }
      ],
      "source": [
        "X_test = []\n",
        "for image in x_test: \n",
        "    blurred = preprocess(image)\n",
        "    X_test.append(blurred)\n",
        "    \n",
        "X_test"
      ]
    },
    {
      "cell_type": "code",
      "execution_count": null,
      "metadata": {
        "id": "4j89eQYa-cvm"
      },
      "outputs": [],
      "source": [
        "del x_train\n",
        "del x_test"
      ]
    },
    {
      "cell_type": "code",
      "execution_count": null,
      "metadata": {
        "id": "xyxu0smC-cvo"
      },
      "outputs": [],
      "source": [
        "def mask_eggs(image): \n",
        "    im = cv2.cvtColor(image,cv2.COLOR_BGR2RGB)\n",
        "    gray = cv2.cvtColor(im,cv2.COLOR_BGR2GRAY)\n",
        "    eggs_mask = deepcopy(im)\n",
        "\n",
        "    for h in range(len(image)):\n",
        "        for w in range(len(image)):\n",
        "\n",
        "            if gray[h][w] not in range(230, 255):  # eggs\n",
        "                eggs_mask[h][w][:] = 255\n",
        "            else: \n",
        "                continue\n",
        "    return eggs_mask"
      ]
    },
    {
      "cell_type": "code",
      "execution_count": null,
      "metadata": {
        "id": "JcMEedD8-cvp"
      },
      "outputs": [],
      "source": [
        "def mask_bananas(image): \n",
        "    im = cv2.cvtColor(image,cv2.COLOR_BGR2RGB)\n",
        "    gray = cv2.cvtColor(im,cv2.COLOR_BGR2GRAY)\n",
        "    banana_mask = deepcopy(im)\n",
        "\n",
        "    for h in range(len(image)):\n",
        "        for w in range(len(image)):\n",
        "\n",
        "            if gray[h][w] not in range(140, 180):  # eggs\n",
        "                banana_mask[h][w][:] = 255\n",
        "    return banana_mask"
      ]
    },
    {
      "cell_type": "code",
      "execution_count": null,
      "metadata": {
        "id": "6ofiJqQE-cvp"
      },
      "outputs": [],
      "source": [
        "def mask_peppers(image): \n",
        "    im = cv2.cvtColor(image,cv2.COLOR_BGR2RGB)\n",
        "    gray = cv2.cvtColor(im,cv2.COLOR_BGR2GRAY)\n",
        "    pepper_mask = deepcopy(im)\n",
        "\n",
        "    for h in range(len(image)):\n",
        "        for w in range(len(image)):\n",
        "\n",
        "            if gray[h][w] not in range(35, 85):  # eggs\n",
        "                pepper_mask[h][w][:] = 255\n",
        "    return pepper_mask"
      ]
    },
    {
      "cell_type": "markdown",
      "metadata": {
        "id": "zic0suWU-cvq"
      },
      "source": [
        "Creando mascaras para las categorias: huevo, platano, chile"
      ]
    },
    {
      "cell_type": "code",
      "execution_count": null,
      "metadata": {
        "id": "4MD50IXC-cvq"
      },
      "outputs": [],
      "source": [
        "eggs_masks = []\n",
        "banana_masks = []\n",
        "pepper_masks = []\n",
        "\n",
        "for image in X_train:\n",
        "    eggs_masks.append(mask_eggs(image))\n",
        "    banana_masks.append(mask_bananas(image))\n",
        "    pepper_masks.append(mask_peppers(image))"
      ]
    },
    {
      "cell_type": "code",
      "execution_count": null,
      "metadata": {
        "id": "RFt2WQtP-cvr"
      },
      "outputs": [],
      "source": [
        "def show_gallery(images):\n",
        "    for num, image in enumerate(images):\n",
        "        plt.subplot(1,5,num+1)\n",
        "        plt.title('mask' + str(num+1))\n",
        "        plt.axis('off')\n",
        "        plt.imshow(image)"
      ]
    },
    {
      "cell_type": "code",
      "execution_count": null,
      "metadata": {
        "id": "dOCtNNLP-cvr",
        "outputId": "5b3b0f03-801e-4f1f-dee4-c570e4ce40ed"
      },
      "outputs": [
        {
          "data": {
            "image/png": "[encoded data removed]",
            "text/plain": [
              "<Figure size 640x480 with 5 Axes>"
            ]
          },
          "metadata": {},
          "output_type": "display_data"
        }
      ],
      "source": [
        "show_gallery(banana_masks)"
      ]
    },
    {
      "cell_type": "code",
      "execution_count": null,
      "metadata": {
        "id": "r_ZNkGi_-cvr",
        "outputId": "f316a858-fd92-4a07-b77a-b618cdd66493"
      },
      "outputs": [
        {
          "data": {
            "image/png": "[encoded data removed]",
            "text/plain": [
              "<Figure size 640x480 with 5 Axes>"
            ]
          },
          "metadata": {},
          "output_type": "display_data"
        }
      ],
      "source": [
        "show_gallery(eggs_masks)"
      ]
    },
    {
      "cell_type": "code",
      "execution_count": null,
      "metadata": {
        "id": "T7EcIS-C-cvs",
        "outputId": "f0d97cef-cd86-417a-ff77-5f52aa05e081"
      },
      "outputs": [
        {
          "data": {
            "image/png": "[encoded data removed]",
            "text/plain": [
              "<Figure size 640x480 with 5 Axes>"
            ]
          },
          "metadata": {},
          "output_type": "display_data"
        }
      ],
      "source": [
        "show_gallery(pepper_masks)"
      ]
    },
    {
      "cell_type": "markdown",
      "metadata": {
        "id": "EmJM6QBL-cvs"
      },
      "source": [
        "Obteniendo probabilidades individuales por clase"
      ]
    },
    {
      "cell_type": "code",
      "execution_count": null,
      "metadata": {
        "id": "vu_zyfn2-cvt",
        "outputId": "7b4d2cc1-ea73-4073-9aaa-eda42113b018"
      },
      "outputs": [
        {
          "data": {
            "text/plain": [
              "246.21580403645834"
            ]
          },
          "execution_count": 62,
          "metadata": {},
          "output_type": "execute_result"
        }
      ],
      "source": [
        "eggs_prob =  np.sum(eggs_masks, where=eggs_masks[:]!=255) / (3 * len(X_train) * size[0]**2)\n",
        "banana_prob =  np.sum(banana_masks, where=banana_masks[:]!=255) / (3 * len(X_train) * size[0]**2)\n",
        "\n",
        "banana_prob "
      ]
    }
  ],
  "metadata": {
    "kernelspec": {
      "display_name": "Python 3.9.13 64-bit",
      "language": "python",
      "name": "python3"
    },
    "language_info": {
      "codemirror_mode": {
        "name": "ipython",
        "version": 3
      },
      "file_extension": ".py",
      "mimetype": "text/x-python",
      "name": "python",
      "nbconvert_exporter": "python",
      "pygments_lexer": "ipython3",
      "version": "3.9.13"
    },
    "orig_nbformat": 4,
    "vscode": {
      "interpreter": {
        "hash": "8e284ee3255a07ad8bf76694974743c4c81cb57e7c969474d752d949b11d721e"
      }
    },
    "colab": {
      "provenance": [],
      "include_colab_link": true
    }
  },
  "nbformat": 4,
  "nbformat_minor": 0
}