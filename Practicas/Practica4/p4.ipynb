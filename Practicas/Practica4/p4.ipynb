{
 "cells": [
  {
   "cell_type": "code",
   "execution_count": 1,
   "metadata": {},
   "outputs": [],
   "source": [
    "from sklearn.model_selection import train_test_split #para dividir sets de entrenamiendo y prueba\n",
    "\n",
    "import numpy as np\n",
    "import cv2\n",
    "import matplotlib.pyplot as plt\n",
    "from os import listdir \n",
    "import pandas as pd\n",
    "\n",
    "from skimage.filters import sobel  #filtro para la deteccion de bordes\n",
    "from skimage.feature import graycomatrix, graycoprops  #la primera calcula la glcm y la segunda las metricas de una glcm\n",
    "#from skimage.measure import shannon_entropy\n",
    "\n",
    "from sklearn.metrics import roc_curve, RocCurveDisplay, auc, f1_score, confusion_matrix, ConfusionMatrixDisplay\n"
   ]
  },
  {
   "cell_type": "code",
   "execution_count": 2,
   "metadata": {},
   "outputs": [],
   "source": [
    "brodatz_db = listdir('Dataset')"
   ]
  },
  {
   "cell_type": "code",
   "execution_count": 3,
   "metadata": {},
   "outputs": [
    {
     "name": "stdout",
     "output_type": "stream",
     "text": [
      "['D16.bmp', 'D6.bmp', 'D64.bmp', 'D49.bmp', 'D46.bmp', 'D101.bmp']\n"
     ]
    }
   ],
   "source": [
    "print(brodatz_db)"
   ]
  },
  {
   "cell_type": "code",
   "execution_count": 4,
   "metadata": {},
   "outputs": [],
   "source": [
    "def preprocessing(image):\n",
    "    image = cv2.cvtColor(image, cv2.COLOR_BGR2GRAY)\n",
    "    #image = cv2.resize(image, (512,512), interpolation= cv2.INTER_LINEAR)\n",
    "    return image"
   ]
  },
  {
   "cell_type": "code",
   "execution_count": 5,
   "metadata": {},
   "outputs": [],
   "source": [
    "images = []\n",
    "'''Leyendo las imagenes'''\n",
    "for image_name in brodatz_db:\n",
    "    image = cv2.imread(f'Dataset/{image_name}')\n",
    "    images.append(preprocessing(image))"
   ]
  },
  {
   "cell_type": "markdown",
   "metadata": {},
   "source": [
    "Definiendo regiones de las secciones de entrenamiento"
   ]
  },
  {
   "cell_type": "code",
   "execution_count": 6,
   "metadata": {},
   "outputs": [],
   "source": [
    "global WINDOW_TRAIN_SIZE   #tamaño de la ventana para los sets de entrenamiento \n",
    "WINDOW_TRAIN_SIZE = 50  \n",
    "\n",
    "#global WINDOW_TEST_SIZE   #tamaño de la ventana para los sets de entrenamiento \n",
    "#WINDOW_TEST_SIZE = 256  \n",
    "\n",
    "'''Obtendremos las regiones caracteristicas de la textura por fuera y construiremos una ventana del tamaño \n",
    "determinado, los vectores se definen en un programa externo '''\n",
    "\n",
    "def create_windows(image, coords, size = WINDOW_TRAIN_SIZE):\n",
    "    window = []\n",
    "    for loc in coords:\n",
    "        w = image[loc[0]:loc[0] + size, \n",
    "                    loc[1]:loc[1] + size]\n",
    "\n",
    "        w = w.reshape(size,size)\n",
    "        window.append(w)\n",
    "        \n",
    "\n",
    "    return np.array(window)"
   ]
  },
  {
   "cell_type": "code",
   "execution_count": 7,
   "metadata": {},
   "outputs": [],
   "source": [
    "#COORDENADA PARA LA REGION DE PRUEBA (TODAS LAS IMAGENES) \n",
    "#T_TEST = [(0,256)]"
   ]
  },
  {
   "cell_type": "code",
   "execution_count": 8,
   "metadata": {},
   "outputs": [],
   "source": [
    "#LAS COORDENADAS PARA LA REGION DE ENTRENAMIENTO \n",
    "T1 = [(42,29),(173,39),(439,96),(559,230),(493,439),(349,227)]\n",
    "T2 = [(16,21),(245,76),(570,446),(545,283),(560,191),(461,161)]\n",
    "T3 = [(67,184),(142,180),(425,57),(443,117),(249,423),(190,550)]\n",
    "T4 = [(37,45),(449,142),(307,248),(557,330),(208,257),(553,581)]\n",
    "T5 = [(88,137),(298,158),(242,342),(311,321),(478,256),(234,489)]\n",
    "T6 = [(50,36),(293,85),(131,353),(399,353),(284,500),(569,313)]"
   ]
  },
  {
   "cell_type": "code",
   "execution_count": 9,
   "metadata": {},
   "outputs": [],
   "source": [
    "'''AGRENGANDO VENTANAS DE CADA TEXTURA'''\n",
    "\n",
    "windows = []\n",
    "\n",
    "windows.append(create_windows(images[0], T1))\n",
    "windows.append(create_windows(images[1], T2))\n",
    "windows.append(create_windows(images[2], T3))\n",
    "windows.append(create_windows(images[3], T4))\n",
    "windows.append(create_windows(images[4], T5))\n",
    "windows.append(create_windows(images[5], T6))\n",
    "\n",
    "windows = np.array(windows)"
   ]
  },
  {
   "cell_type": "code",
   "execution_count": 10,
   "metadata": {},
   "outputs": [],
   "source": [
    "data = windows.reshape(-1,WINDOW_TRAIN_SIZE,WINDOW_TRAIN_SIZE)"
   ]
  },
  {
   "cell_type": "code",
   "execution_count": 11,
   "metadata": {},
   "outputs": [
    {
     "data": {
      "text/plain": [
       "array(['T1', 'T1', 'T1', 'T1', 'T1', 'T1', 'T2', 'T2', 'T2', 'T2', 'T2',\n",
       "       'T2', 'T3', 'T3', 'T3', 'T3', 'T3', 'T3', 'T4', 'T4', 'T4', 'T4',\n",
       "       'T4', 'T4', 'T5', 'T5', 'T5', 'T5', 'T5', 'T5', 'T6', 'T6', 'T6',\n",
       "       'T6', 'T6', 'T6'], dtype='<U2')"
      ]
     },
     "execution_count": 11,
     "metadata": {},
     "output_type": "execute_result"
    }
   ],
   "source": [
    "'''Obteniendo las labels de cada texel obtenido, como se agregaron por orden 1,2,3,4,5,6 se seguira el mismo criterio\n",
    "para crear las etiquetas '''\n",
    "labels = np.array([[f'T{i}'] * 6 for i in range(1,7)])\n",
    "labels = labels.reshape(-1)\n",
    "labels"
   ]
  },
  {
   "cell_type": "code",
   "execution_count": 12,
   "metadata": {},
   "outputs": [
    {
     "data": {
      "text/plain": [
       "(36, 50, 50)"
      ]
     },
     "execution_count": 12,
     "metadata": {},
     "output_type": "execute_result"
    }
   ],
   "source": [
    "data.shape"
   ]
  },
  {
   "cell_type": "code",
   "execution_count": 13,
   "metadata": {},
   "outputs": [
    {
     "data": {
      "text/plain": [
       "(36,)"
      ]
     },
     "execution_count": 13,
     "metadata": {},
     "output_type": "execute_result"
    }
   ],
   "source": [
    "labels.shape"
   ]
  },
  {
   "cell_type": "markdown",
   "metadata": {},
   "source": [
    "Definiendo sets de entrenamiento y prueba"
   ]
  },
  {
   "cell_type": "code",
   "execution_count": 14,
   "metadata": {},
   "outputs": [],
   "source": [
    "X_train, X_test, y_train, y_test = train_test_split(data, labels, test_size=0.2, random_state=42)"
   ]
  },
  {
   "cell_type": "markdown",
   "metadata": {},
   "source": [
    "Obteniendo GLCM2 y metricas de segundo orden "
   ]
  },
  {
   "cell_type": "code",
   "execution_count": 15,
   "metadata": {},
   "outputs": [],
   "source": [
    "from operator import concat\n",
    "\n",
    "\n",
    "def feature_extractor(data, set_name): \n",
    "    '''Esta funcion se encargara de la creacion de las matrices de GLCM2 y la extraccion de las caracteristicas de las mismas\n",
    "    ademas de almacenar los resultados en un dataframe que se podra utilizar a continuación como la información de \n",
    "    entrenamiento\n",
    "\n",
    "    Los calculos de GLCM que se usaran son: \n",
    "\n",
    "    distancia   |   grados\n",
    "    1           |   0\n",
    "    3           |   0\n",
    "    0           |   pi/4\n",
    "    0           |   pi/2\n",
    "\n",
    "\n",
    "    Parameters\n",
    "    ----------\n",
    "        * data [list] : set de imagenes\n",
    "        * set_name [str] : nombra al set resultante entre entrenamiento o prueba\n",
    "        \n",
    "    Returns\n",
    "    ----------\n",
    "        * dataset [DataFrame] : Dataframe de la extraccion de caracteristicas de las matrices de GLCM2\n",
    "'''\n",
    "    dataset = pd.DataFrame() #definimos un dataframe (excel) para guardar las caracteristicas\n",
    "\n",
    "    for image in data:\n",
    "        #print(f'{i}    {image.shape}')\n",
    "        row = pd.DataFrame()  #dataframe auxiliar para almacenar una fila\n",
    "        \n",
    "        #Metricas para la primera GLCM\n",
    "        GLCM = graycomatrix(image, [1], [0])      \n",
    "        GLCM_Energy = graycoprops(GLCM, 'energy')[0]\n",
    "        row['energy1'] = GLCM_Energy\n",
    "        GLCM_corr = graycoprops(GLCM, 'correlation')[0]\n",
    "        row['correlation1'] = GLCM_corr\n",
    "        GLCM_diss = graycoprops(GLCM, 'dissimilarity')[0]\n",
    "        row['dissimilarity1'] = GLCM_diss\n",
    "        GLCM_hom = graycoprops(GLCM, 'homogeneity')[0]\n",
    "        row['homogeneity1'] = GLCM_hom\n",
    "        GLCM_contr = graycoprops(GLCM, 'contrast')[0]\n",
    "        row['contrast1'] = GLCM_contr\n",
    "\n",
    "        #Metricas para la segunda GLCM\n",
    "        GLCM2 = graycomatrix(image, [3], [0])      \n",
    "        GLCM_Energy2 = graycoprops(GLCM2, 'energy')[0]\n",
    "        row['energy2'] = GLCM_Energy2\n",
    "        GLCM_corr2 = graycoprops(GLCM2, 'correlation')[0]\n",
    "        row['correlation2'] = GLCM_corr2\n",
    "        GLCM_diss2 = graycoprops(GLCM2, 'dissimilarity')[0]\n",
    "        row['dissimilarity2'] = GLCM_diss2\n",
    "        GLCM_hom2 = graycoprops(GLCM2, 'homogeneity')[0]\n",
    "        row['homogeneity2'] = GLCM_hom2\n",
    "        GLCM_contr2 = graycoprops(GLCM2, 'contrast')[0]\n",
    "        row['contrast2'] = GLCM_contr2\n",
    "\n",
    "        #Metricas para la tercera GLCM\n",
    "        GLCM3 = graycomatrix(image, [0], [np.pi/4])      \n",
    "        GLCM_Energy3 = graycoprops(GLCM3, 'energy')[0]\n",
    "        row['energy3'] = GLCM_Energy3\n",
    "        GLCM_corr3 = graycoprops(GLCM3, 'correlation')[0]\n",
    "        row['correlation3'] = GLCM_corr3\n",
    "        GLCM_diss3 = graycoprops(GLCM3, 'dissimilarity')[0]\n",
    "        row['dissimilarity3'] = GLCM_diss3\n",
    "        GLCM_hom3 = graycoprops(GLCM3, 'homogeneity')[0]\n",
    "        row['homogeneity3'] = GLCM_hom3\n",
    "        GLCM_contr3 = graycoprops(GLCM3, 'contrast')[0]\n",
    "        row['contrast3'] = GLCM_contr3\n",
    "\n",
    "        #Metricas para la cuarta GLCM\n",
    "        GLCM4 = graycomatrix(image, [0], [np.pi/2])      \n",
    "        GLCM_Energy4 = graycoprops(GLCM4, 'energy')[0]\n",
    "        row['energy4'] = GLCM_Energy4\n",
    "        GLCM_corr4 = graycoprops(GLCM4, 'correlation')[0]\n",
    "        row['correlation4'] = GLCM_corr4\n",
    "        GLCM_diss4 = graycoprops(GLCM4, 'dissimilarity')[0]\n",
    "        row['dissimilarity4'] = GLCM_diss4\n",
    "        GLCM_hom4 = graycoprops(GLCM4, 'homogeneity')[0]\n",
    "        row['homogeneity4'] = GLCM_hom4\n",
    "        GLCM_contr4 = graycoprops(GLCM4, 'contrast')[0]\n",
    "        row['contrast4'] = GLCM_contr4\n",
    "\n",
    "        dataset = pd.concat([dataset, row])\n",
    "    \n",
    "    dataset.to_csv(f'metrics_{set_name}.csv')\n",
    "    \n",
    "    return dataset "
   ]
  },
  {
   "cell_type": "code",
   "execution_count": 16,
   "metadata": {},
   "outputs": [],
   "source": [
    "train_features = feature_extractor(X_train, 'train')\n",
    "#n_features = image_features.shape[1]\n",
    "train_features = np.expand_dims(train_features, axis=0)\n",
    "train_features = np.reshape(train_features, (X_train.shape[0], -1))  #nueva forma de imagen-caracteristicas"
   ]
  },
  {
   "cell_type": "code",
   "execution_count": 17,
   "metadata": {},
   "outputs": [
    {
     "data": {
      "text/plain": [
       "20"
      ]
     },
     "execution_count": 17,
     "metadata": {},
     "output_type": "execute_result"
    }
   ],
   "source": [
    "n_features = train_features.shape[1]\n",
    "n_features"
   ]
  },
  {
   "cell_type": "markdown",
   "metadata": {},
   "source": [
    "Ajuste de los datos de prueba"
   ]
  },
  {
   "cell_type": "code",
   "execution_count": 18,
   "metadata": {},
   "outputs": [],
   "source": [
    "test_features = feature_extractor(X_test, 'test')\n",
    "test_features = np.expand_dims(test_features, axis=0)\n",
    "test_features = np.reshape(test_features, (X_test.shape[0], -1))  #nueva forma de imagen-caracteristicas"
   ]
  },
  {
   "cell_type": "markdown",
   "metadata": {},
   "source": [
    "USO DE CLASIFICADORES"
   ]
  },
  {
   "cell_type": "code",
   "execution_count": 19,
   "metadata": {},
   "outputs": [],
   "source": [
    "def calculateCM(y_true, y_pred, title, labels=['T1','T2','T3','T4','T5','T6']):\n",
    "    cm = confusion_matrix(y_true, y_pred, labels = labels)\n",
    "    disp = ConfusionMatrixDisplay(confusion_matrix=cm,display_labels=['T1','T2','T3','T4','T5','T6'])\n",
    "    #disp.ax.set_title(title)\n",
    "    disp.plot()\n",
    "    plt.show()"
   ]
  },
  {
   "cell_type": "markdown",
   "metadata": {},
   "source": [
    "SVM"
   ]
  },
  {
   "cell_type": "code",
   "execution_count": 20,
   "metadata": {},
   "outputs": [
    {
     "data": {
      "text/plain": [
       "SVC(decision_function_shape='ovo')"
      ]
     },
     "execution_count": 20,
     "metadata": {},
     "output_type": "execute_result"
    }
   ],
   "source": [
    "'''SVM'''\n",
    "\n",
    "from sklearn import svm\n",
    "SVM_model = svm.SVC(decision_function_shape='ovo')  #Para la clasificacion multiclase\n",
    "SVM_model.fit(train_features, y_train)"
   ]
  },
  {
   "cell_type": "code",
   "execution_count": 21,
   "metadata": {},
   "outputs": [],
   "source": [
    "y_pred = SVM_model.predict(test_features)"
   ]
  },
  {
   "cell_type": "code",
   "execution_count": 22,
   "metadata": {},
   "outputs": [
    {
     "data": {
      "image/png": "[encoded data removed]",
      "text/plain": [
       "<Figure size 640x480 with 2 Axes>"
      ]
     },
     "metadata": {},
     "output_type": "display_data"
    }
   ],
   "source": [
    "'''La matriz de confusion se refiere a las coincidencias entre los valores predecidos y los reales entre cada una \n",
    "de las clases'''\n",
    "\n",
    "calculateCM(y_test, y_pred, 'SVM')"
   ]
  },
  {
   "cell_type": "markdown",
   "metadata": {},
   "source": [
    "KNN"
   ]
  },
  {
   "cell_type": "code",
   "execution_count": 23,
   "metadata": {},
   "outputs": [
    {
     "data": {
      "text/plain": [
       "array(['T6', 'T3', 'T5', 'T6', 'T3', 'T6', 'T4', 'T3'], dtype='<U2')"
      ]
     },
     "execution_count": 23,
     "metadata": {},
     "output_type": "execute_result"
    }
   ],
   "source": [
    "y_test"
   ]
  },
  {
   "cell_type": "code",
   "execution_count": 24,
   "metadata": {},
   "outputs": [
    {
     "name": "stderr",
     "output_type": "stream",
     "text": [
      "/Users/rcs/opt/anaconda3/envs/REC-PATRONES/lib/python3.9/site-packages/sklearn/neighbors/_classification.py:228: FutureWarning: Unlike other reduction functions (e.g. `skew`, `kurtosis`), the default behavior of `mode` typically preserves the axis it acts along. In SciPy 1.11.0, this behavior will change: the default value of `keepdims` will become False, the `axis` over which the statistic is taken will be eliminated, and the value None will no longer be accepted. Set `keepdims` to True or False to avoid this warning.\n",
      "  mode, _ = stats.mode(_y[neigh_ind, k], axis=1)\n"
     ]
    }
   ],
   "source": [
    "from sklearn.neighbors import KNeighborsClassifier \n",
    "\n",
    "neigh = KNeighborsClassifier(n_neighbors=6)\n",
    "neigh.fit(train_features, y_train)\n",
    "y_pred = neigh.predict(test_features, )"
   ]
  },
  {
   "cell_type": "code",
   "execution_count": 25,
   "metadata": {},
   "outputs": [
    {
     "data": {
      "image/png": "[encoded data removed]",
      "text/plain": [
       "<Figure size 640x480 with 2 Axes>"
      ]
     },
     "metadata": {},
     "output_type": "display_data"
    }
   ],
   "source": [
    "calculateCM(y_test, y_pred, 'KNN')"
   ]
  },
  {
   "cell_type": "markdown",
   "metadata": {},
   "source": [
    "Naive Bayes"
   ]
  },
  {
   "cell_type": "code",
   "execution_count": 26,
   "metadata": {},
   "outputs": [
    {
     "data": {
      "text/plain": [
       "GaussianNB()"
      ]
     },
     "execution_count": 26,
     "metadata": {},
     "output_type": "execute_result"
    }
   ],
   "source": [
    "from sklearn.naive_bayes import GaussianNB\n",
    "clf = GaussianNB()\n",
    "clf.fit(train_features, y_train)"
   ]
  },
  {
   "cell_type": "code",
   "execution_count": 27,
   "metadata": {},
   "outputs": [],
   "source": [
    "y_pred = clf.predict(test_features)"
   ]
  },
  {
   "cell_type": "code",
   "execution_count": 28,
   "metadata": {},
   "outputs": [
    {
     "data": {
      "image/png": "[encoded data removed]",
      "text/plain": [
       "<Figure size 640x480 with 2 Axes>"
      ]
     },
     "metadata": {},
     "output_type": "display_data"
    }
   ],
   "source": [
    "calculateCM(y_test, y_pred, 'NAIVE BAYES')"
   ]
  },
  {
   "cell_type": "markdown",
   "metadata": {},
   "source": [
    "Parte B"
   ]
  },
  {
   "cell_type": "code",
   "execution_count": 29,
   "metadata": {},
   "outputs": [
    {
     "data": {
      "text/plain": [
       "['imgCompuesta2.png', 'imgCompuesta3.png', 'imgCompuesta1.png']"
      ]
     },
     "execution_count": 29,
     "metadata": {},
     "output_type": "execute_result"
    }
   ],
   "source": [
    "composed_images_names = listdir('imagenes_compuestas')\n",
    "composed_images_names"
   ]
  },
  {
   "cell_type": "code",
   "execution_count": 30,
   "metadata": {},
   "outputs": [],
   "source": [
    "composed_images = []   #Composed X_test\n",
    "\n",
    "'''Leyendo las imagenes'''\n",
    "for image_name in composed_images_names:\n",
    "    image = cv2.imread(f'imagenes_compuestas/{image_name}')\n",
    "    composed_images.append(preprocessing(image))   #aplicamos el preprocesamiento "
   ]
  },
  {
   "cell_type": "code",
   "execution_count": 31,
   "metadata": {},
   "outputs": [],
   "source": [
    "'''Usando el algoritmo de ventanas deslizantes vamos a obtener nuevas ventanas como set de prueba y probaremos \n",
    "los clasificadores'''\n",
    "\n",
    "#CAMBIAR AQUI PARA CAMBIAR LOS TAMAÑOS DE MUESTRAS\n",
    "im = composed_images[0]   # cambiar el indice para probar otra imagen \n",
    "W = im.shape[0]//8   #para el tamaño de ventana que se definio para las de entrenamiento\n",
    "H = im.shape[1]//8\n",
    "\n",
    "CX_test = []\n",
    "Cy_test = []\n",
    "\n",
    "'''tomamos una region de hasta M y N en un valor que se itera doblemente entre el tamaño de ancho y \n",
    "alto respectivamente'''\n",
    "for x in range(0,im.shape[0],W):\n",
    "    for y in range(0,im.shape[1],H):\n",
    "        CX_test.append(im[x:x+W,y:y+H])\n",
    "\n",
    "        if x in range(0,im.shape[0]//2) and y in range(0,im.shape[0]//2):  #cuadrante 1\n",
    "            Cy_test.append('T1')\n",
    "\n",
    "        elif x in range(im.shape[0]//2,im.shape[0]) and y in range(im.shape[0]//2,im.shape[0]): #cuadrante 4\n",
    "            Cy_test.append('T6')\n",
    "\n",
    "        elif x in range(im.shape[0]//2,im.shape[0]) and y in range(0,im.shape[0]//2): #cuadrante 2\n",
    "            Cy_test.append('T5')\n",
    "\n",
    "        else: \n",
    "            Cy_test.append('T3') #cuadrante 3\n",
    "\n",
    "\n",
    "#CX_test.append([im[x:x+W,y:y+H] for x in range(0,im.shape[0],W) for y in range(0,im.shape[1],H)])\n",
    "\n",
    "CX_test = np.array(CX_test)\n",
    "#CX_test = CX_test.reshape(-1,40,40)\n",
    "\n",
    "Cy_test = np.array(Cy_test)\n",
    "#CX_test = CX_test.reshape(-1,40,40)"
   ]
  },
  {
   "cell_type": "code",
   "execution_count": 32,
   "metadata": {},
   "outputs": [],
   "source": [
    "CX_features_test = feature_extractor(CX_test, 'composed_images')"
   ]
  },
  {
   "cell_type": "code",
   "execution_count": 33,
   "metadata": {},
   "outputs": [],
   "source": [
    "CX_features_test = feature_extractor(CX_test, 'test')\n",
    "CX_features_test = np.expand_dims(CX_features_test, axis=0)\n",
    "CX_features_test = np.reshape(CX_features_test, (CX_test.shape[0], -1))  #nueva forma de imagen-caracteristicas"
   ]
  },
  {
   "cell_type": "markdown",
   "metadata": {},
   "source": [
    "PRUEBA DE CLASIFICADORES PARA PARTE B"
   ]
  },
  {
   "cell_type": "code",
   "execution_count": 34,
   "metadata": {},
   "outputs": [],
   "source": [
    "def show_gallery(images, title):\n",
    "    for num, image in enumerate(images):\n",
    "        plt.subplot(1,2,num+1)\n",
    "        plt.title(title)\n",
    "        plt.axis('off')\n",
    "        plt.imshow(image)"
   ]
  },
  {
   "cell_type": "code",
   "execution_count": 35,
   "metadata": {},
   "outputs": [],
   "source": [
    "import copy\n",
    "\n",
    "def segmentate_classes(y_pred, tested_image, title):\n",
    "    segmented_image = tested_image\n",
    "\n",
    "    W = tested_image.shape[0]//8   #para el tamaño de ventana que se definio para las de entrenamiento\n",
    "    H = tested_image.shape[1]//8\n",
    "    x = 0\n",
    "    y = 0\n",
    "            \n",
    "    for label in y_pred:\n",
    "    \n",
    "        if label == 'T1' :\n",
    "            segmented_image = cv2.rectangle(segmented_image, (x,y), (x + H, y + W), (255,0,0,255), -1) #ROJO\n",
    "            x+=H \n",
    "        \n",
    "        elif label == 'T2' :\n",
    "            segmented_image = cv2.rectangle(segmented_image, (x,y), (x + H, y + W), (255,255,0,255), -1)#CAFE?\n",
    "            x+=H\n",
    "        \n",
    "        elif label == 'T3' :\n",
    "            segmented_image = cv2.rectangle(segmented_image, (x,y), (x + H, y + W), (0,255,0,255), -1)#VERDE\n",
    "            x+=H\n",
    "\n",
    "        elif label == 'T4' :\n",
    "            segmented_image = cv2.rectangle(segmented_image, (x,y), (x + H, y + W), (0,255,255,255), -1)#AMARILLO\n",
    "            x+=H\n",
    "\n",
    "        elif label == 'T5' :\n",
    "            segmented_image = cv2.rectangle(segmented_image, (x,y), (x + H, y + W), (0,0,255,255), -1)#AZUL\n",
    "            x+=H\n",
    "\n",
    "        else :  #T6\n",
    "            segmented_image = cv2.rectangle(segmented_image, (x,y), (x + H, y + W), (255,0,255,255), -1)#PURPURA\n",
    "            x+=H\n",
    "\n",
    "        if x == tested_image.shape[0]: \n",
    "            x=0\n",
    "            y+=W\n",
    "\n",
    "    print(y_pred.reshape(8,8))\n",
    "    \n",
    "    show_gallery([tested_image, segmented_image], title)"
   ]
  },
  {
   "cell_type": "markdown",
   "metadata": {},
   "source": [
    "SVM"
   ]
  },
  {
   "cell_type": "code",
   "execution_count": 36,
   "metadata": {},
   "outputs": [
    {
     "name": "stdout",
     "output_type": "stream",
     "text": [
      "TRUE LABELS\n",
      "[['T1' 'T1' 'T1' 'T1' 'T3' 'T3' 'T3' 'T3']\n",
      " ['T1' 'T1' 'T1' 'T1' 'T3' 'T3' 'T3' 'T3']\n",
      " ['T1' 'T1' 'T1' 'T1' 'T3' 'T3' 'T3' 'T3']\n",
      " ['T1' 'T1' 'T1' 'T1' 'T3' 'T3' 'T3' 'T3']\n",
      " ['T5' 'T5' 'T5' 'T5' 'T6' 'T6' 'T6' 'T6']\n",
      " ['T5' 'T5' 'T5' 'T5' 'T6' 'T6' 'T6' 'T6']\n",
      " ['T5' 'T5' 'T5' 'T5' 'T6' 'T6' 'T6' 'T6']\n",
      " ['T5' 'T5' 'T5' 'T5' 'T6' 'T6' 'T6' 'T6']]\n",
      "---------------------------------------------------------\n"
     ]
    },
    {
     "data": {
      "image/png": "[encoded data removed]",
      "text/plain": [
       "<Figure size 640x480 with 2 Axes>"
      ]
     },
     "metadata": {},
     "output_type": "display_data"
    }
   ],
   "source": [
    "'''SVM'''\n",
    "print('TRUE LABELS')\n",
    "segmentate_classes(Cy_test, cv2.cvtColor(composed_images[0], cv2.COLOR_GRAY2RGBA), 'SVM')\n",
    "print('---------------------------------------------------------')"
   ]
  },
  {
   "cell_type": "code",
   "execution_count": 37,
   "metadata": {},
   "outputs": [
    {
     "name": "stdout",
     "output_type": "stream",
     "text": [
      "PREDICTED LABELS\n",
      "[['T1' 'T1' 'T1' 'T1' 'T4' 'T5' 'T2' 'T5']\n",
      " ['T1' 'T1' 'T1' 'T1' 'T5' 'T2' 'T5' 'T2']\n",
      " ['T1' 'T1' 'T1' 'T1' 'T4' 'T5' 'T2' 'T5']\n",
      " ['T1' 'T1' 'T1' 'T1' 'T4' 'T5' 'T5' 'T2']\n",
      " ['T4' 'T5' 'T4' 'T5' 'T2' 'T6' 'T6' 'T6']\n",
      " ['T5' 'T5' 'T5' 'T5' 'T6' 'T6' 'T6' 'T2']\n",
      " ['T5' 'T5' 'T5' 'T5' 'T6' 'T6' 'T6' 'T6']\n",
      " ['T5' 'T5' 'T5' 'T4' 'T6' 'T6' 'T6' 'T6']]\n"
     ]
    },
    {
     "data": {
      "image/png": "[encoded data removed]",
      "text/plain": [
       "<Figure size 640x480 with 2 Axes>"
      ]
     },
     "metadata": {},
     "output_type": "display_data"
    }
   ],
   "source": [
    "print('PREDICTED LABELS')\n",
    "y_pred_svm = SVM_model.predict(CX_features_test)\n",
    "segmentate_classes(y_pred_svm, cv2.cvtColor(composed_images[0], cv2.COLOR_GRAY2RGBA), 'SVM')"
   ]
  },
  {
   "cell_type": "markdown",
   "metadata": {},
   "source": [
    "KNN"
   ]
  },
  {
   "cell_type": "code",
   "execution_count": 38,
   "metadata": {},
   "outputs": [
    {
     "name": "stdout",
     "output_type": "stream",
     "text": [
      "TRUE LABELS\n",
      "[['T1' 'T1' 'T1' 'T1' 'T3' 'T3' 'T3' 'T3']\n",
      " ['T1' 'T1' 'T1' 'T1' 'T3' 'T3' 'T3' 'T3']\n",
      " ['T1' 'T1' 'T1' 'T1' 'T3' 'T3' 'T3' 'T3']\n",
      " ['T1' 'T1' 'T1' 'T1' 'T3' 'T3' 'T3' 'T3']\n",
      " ['T5' 'T5' 'T5' 'T5' 'T6' 'T6' 'T6' 'T6']\n",
      " ['T5' 'T5' 'T5' 'T5' 'T6' 'T6' 'T6' 'T6']\n",
      " ['T5' 'T5' 'T5' 'T5' 'T6' 'T6' 'T6' 'T6']\n",
      " ['T5' 'T5' 'T5' 'T5' 'T6' 'T6' 'T6' 'T6']]\n",
      "---------------------------------------------------------\n"
     ]
    },
    {
     "data": {
      "image/png": "[encoded data removed]",
      "text/plain": [
       "<Figure size 640x480 with 2 Axes>"
      ]
     },
     "metadata": {},
     "output_type": "display_data"
    }
   ],
   "source": [
    "'''KNN'''\n",
    "print('TRUE LABELS')\n",
    "segmentate_classes(Cy_test, cv2.cvtColor(composed_images[0], cv2.COLOR_GRAY2RGBA), 'KNN')\n",
    "print('---------------------------------------------------------')"
   ]
  },
  {
   "cell_type": "code",
   "execution_count": 39,
   "metadata": {},
   "outputs": [
    {
     "name": "stdout",
     "output_type": "stream",
     "text": [
      "PREDICTED LABELS\n",
      "[['T1' 'T1' 'T1' 'T1' 'T4' 'T3' 'T2' 'T5']\n",
      " ['T1' 'T1' 'T1' 'T1' 'T5' 'T2' 'T5' 'T2']\n",
      " ['T1' 'T1' 'T1' 'T1' 'T4' 'T3' 'T2' 'T5']\n",
      " ['T1' 'T1' 'T1' 'T1' 'T5' 'T3' 'T5' 'T2']\n",
      " ['T5' 'T5' 'T4' 'T5' 'T2' 'T2' 'T2' 'T2']\n",
      " ['T5' 'T5' 'T5' 'T5' 'T2' 'T2' 'T2' 'T2']\n",
      " ['T5' 'T5' 'T5' 'T5' 'T6' 'T2' 'T2' 'T2']\n",
      " ['T5' 'T5' 'T5' 'T4' 'T2' 'T6' 'T6' 'T2']]\n"
     ]
    },
    {
     "name": "stderr",
     "output_type": "stream",
     "text": [
      "/Users/rcs/opt/anaconda3/envs/REC-PATRONES/lib/python3.9/site-packages/sklearn/neighbors/_classification.py:228: FutureWarning: Unlike other reduction functions (e.g. `skew`, `kurtosis`), the default behavior of `mode` typically preserves the axis it acts along. In SciPy 1.11.0, this behavior will change: the default value of `keepdims` will become False, the `axis` over which the statistic is taken will be eliminated, and the value None will no longer be accepted. Set `keepdims` to True or False to avoid this warning.\n",
      "  mode, _ = stats.mode(_y[neigh_ind, k], axis=1)\n"
     ]
    },
    {
     "data": {
      "image/png": "[encoded data removed]",
      "text/plain": [
       "<Figure size 640x480 with 2 Axes>"
      ]
     },
     "metadata": {},
     "output_type": "display_data"
    }
   ],
   "source": [
    "print('PREDICTED LABELS')\n",
    "y_pred_knn = neigh.predict(CX_features_test,)\n",
    "segmentate_classes(y_pred_knn, cv2.cvtColor(composed_images[0], cv2.COLOR_GRAY2RGBA), 'KNN')"
   ]
  },
  {
   "cell_type": "markdown",
   "metadata": {},
   "source": [
    "NAIVE BAYES "
   ]
  },
  {
   "cell_type": "code",
   "execution_count": 40,
   "metadata": {},
   "outputs": [
    {
     "name": "stdout",
     "output_type": "stream",
     "text": [
      "TRUE LABELS\n",
      "[['T1' 'T1' 'T1' 'T1' 'T3' 'T3' 'T3' 'T3']\n",
      " ['T1' 'T1' 'T1' 'T1' 'T3' 'T3' 'T3' 'T3']\n",
      " ['T1' 'T1' 'T1' 'T1' 'T3' 'T3' 'T3' 'T3']\n",
      " ['T1' 'T1' 'T1' 'T1' 'T3' 'T3' 'T3' 'T3']\n",
      " ['T5' 'T5' 'T5' 'T5' 'T6' 'T6' 'T6' 'T6']\n",
      " ['T5' 'T5' 'T5' 'T5' 'T6' 'T6' 'T6' 'T6']\n",
      " ['T5' 'T5' 'T5' 'T5' 'T6' 'T6' 'T6' 'T6']\n",
      " ['T5' 'T5' 'T5' 'T5' 'T6' 'T6' 'T6' 'T6']]\n",
      "---------------------------------------------------------\n"
     ]
    },
    {
     "data": {
      "image/png": "[encoded data removed]",
      "text/plain": [
       "<Figure size 640x480 with 2 Axes>"
      ]
     },
     "metadata": {},
     "output_type": "display_data"
    }
   ],
   "source": [
    "'''KNN'''\n",
    "print('TRUE LABELS')\n",
    "segmentate_classes(Cy_test, cv2.cvtColor(composed_images[0], cv2.COLOR_GRAY2RGBA), 'NAIVE BAYES')\n",
    "print('---------------------------------------------------------')"
   ]
  },
  {
   "cell_type": "code",
   "execution_count": 41,
   "metadata": {},
   "outputs": [
    {
     "name": "stdout",
     "output_type": "stream",
     "text": [
      "PREDICTED LABELS\n",
      "[['T1' 'T1' 'T1' 'T1' 'T4' 'T3' 'T3' 'T3']\n",
      " ['T1' 'T1' 'T1' 'T1' 'T3' 'T3' 'T3' 'T3']\n",
      " ['T1' 'T1' 'T1' 'T1' 'T5' 'T3' 'T3' 'T3']\n",
      " ['T1' 'T1' 'T1' 'T1' 'T3' 'T3' 'T3' 'T3']\n",
      " ['T4' 'T5' 'T4' 'T5' 'T6' 'T6' 'T6' 'T6']\n",
      " ['T5' 'T5' 'T5' 'T5' 'T6' 'T6' 'T6' 'T6']\n",
      " ['T5' 'T5' 'T5' 'T5' 'T6' 'T6' 'T6' 'T6']\n",
      " ['T5' 'T5' 'T5' 'T4' 'T6' 'T6' 'T6' 'T6']]\n"
     ]
    },
    {
     "data": {
      "image/png": "[encoded data removed]",
      "text/plain": [
       "<Figure size 640x480 with 2 Axes>"
      ]
     },
     "metadata": {},
     "output_type": "display_data"
    }
   ],
   "source": [
    "print('PREDICTED LABELS')\n",
    "y_pred_nv = clf.predict(CX_features_test)\n",
    "segmentate_classes(y_pred_nv, cv2.cvtColor(composed_images[0], cv2.COLOR_GRAY2RGBA), 'NAIVE BAYES')"
   ]
  }
 ],
 "metadata": {
  "kernelspec": {
   "display_name": "Python 3.9.12 ('REC-PATRONES')",
   "language": "python",
   "name": "python3"
  },
  "language_info": {
   "codemirror_mode": {
    "name": "ipython",
    "version": 3
   },
   "file_extension": ".py",
   "mimetype": "text/x-python",
   "name": "python",
   "nbconvert_exporter": "python",
   "pygments_lexer": "ipython3",
   "version": "3.9.13"
  },
  "orig_nbformat": 4,
  "vscode": {
   "interpreter": {
    "hash": "0b52d040fe4ba0be03c39de14b59461057dd24a30fb98d38c2a27534061b9f08"
   }
  }
 },
 "nbformat": 4,
 "nbformat_minor": 2
}
